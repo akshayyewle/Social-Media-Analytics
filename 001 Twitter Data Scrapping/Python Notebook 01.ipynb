{
 "cells": [
  {
   "cell_type": "markdown",
   "metadata": {},
   "source": [
    "# **Setup**\n",
    "\n",
    "**Reference**\n",
    "* https://www.youtube.com/watch?v=MNEw3Mplm7E\n",
    "\n",
    "**Package**\n",
    "* https://pypi.org/project/ntscraper/"
   ]
  },
  {
   "cell_type": "code",
   "execution_count": 2,
   "metadata": {},
   "outputs": [],
   "source": [
    "import pandas as pd \n",
    "from ntscraper import Nitter"
   ]
  },
  {
   "cell_type": "markdown",
   "metadata": {},
   "source": [
    "# **Create Scrapper**"
   ]
  },
  {
   "cell_type": "code",
   "execution_count": 3,
   "metadata": {},
   "outputs": [
    {
     "name": "stderr",
     "output_type": "stream",
     "text": [
      "Testing instances: 100%|██████████| 32/32 [01:09<00:00,  2.18s/it]\n"
     ]
    }
   ],
   "source": [
    "# Create Scrapper Instance\n",
    "scraper = Nitter()"
   ]
  },
  {
   "cell_type": "markdown",
   "metadata": {},
   "source": [
    "# **Get Data**"
   ]
  },
  {
   "cell_type": "code",
   "execution_count": 5,
   "metadata": {},
   "outputs": [
    {
     "name": "stdout",
     "output_type": "stream",
     "text": [
      "15-Dec-23 12:15:04 - No instance specified, using random instance https://nitter.moomoo.me\n",
      "15-Dec-23 12:15:19 - Current stats for RBI: 5 tweets, 0 threads...\n",
      "15-Dec-23 12:15:20 - Empty page on https://nitter.moomoo.me\n",
      "2\n"
     ]
    },
    {
     "data": {
      "text/plain": [
       "{'tweets': [{'link': 'https://twitter.com/RBI/status/1734155380316586299#m',\n",
       "   'text': 'Regulatory Sandbox: On Tap application on theme ‘Retail Payments’ – Completion of Test Phase https://www.rbi.org.in/Scripts/BS_PressReleaseDisplay.aspx?prid=56911',\n",
       "   'user': {'name': 'ReserveBankOfIndia',\n",
       "    'username': '@RBI',\n",
       "    'profile_id': '578162805666230272',\n",
       "    'avatar': 'https://pbs.twimg.com/profile_images/578162805666230272/cCkngdx2_bigger.jpeg'},\n",
       "   'date': 'Dec 11, 2023 · 10:17 AM UTC',\n",
       "   'is-retweet': False,\n",
       "   'external-link': '',\n",
       "   'quoted-post': {},\n",
       "   'stats': {'comments': 48, 'retweets': 15, 'quotes': 3, 'likes': 125},\n",
       "   'pictures': [],\n",
       "   'videos': [],\n",
       "   'gifs': []},\n",
       "  {'link': 'https://twitter.com/RBI/status/1734151485678850273#m',\n",
       "   'text': 'State Finances: A Study of Budgets of 2023-24 https://www.rbi.org.in/Scripts/BS_PressReleaseDisplay.aspx?prid=56910',\n",
       "   'user': {'name': 'ReserveBankOfIndia',\n",
       "    'username': '@RBI',\n",
       "    'profile_id': '578162805666230272',\n",
       "    'avatar': 'https://pbs.twimg.com/profile_images/578162805666230272/cCkngdx2_bigger.jpeg'},\n",
       "   'date': 'Dec 11, 2023 · 10:01 AM UTC',\n",
       "   'is-retweet': False,\n",
       "   'external-link': '',\n",
       "   'quoted-post': {},\n",
       "   'stats': {'comments': 16, 'retweets': 29, 'quotes': 1, 'likes': 159},\n",
       "   'pictures': [],\n",
       "   'videos': [],\n",
       "   'gifs': []},\n",
       "  {'link': 'https://twitter.com/RBI/status/1734094967403163714#m',\n",
       "   'text': 'RBI Cautions against unauthorised campaigns on Loan waiver https://rbi.org.in/Scripts/BS_PressReleaseDisplay.aspx?prid=56909',\n",
       "   'user': {'name': 'ReserveBankOfIndia',\n",
       "    'username': '@RBI',\n",
       "    'profile_id': '578162805666230272',\n",
       "    'avatar': 'https://pbs.twimg.com/profile_images/578162805666230272/cCkngdx2_bigger.jpeg'},\n",
       "   'date': 'Dec 11, 2023 · 6:17 AM UTC',\n",
       "   'is-retweet': False,\n",
       "   'external-link': '',\n",
       "   'quoted-post': {},\n",
       "   'stats': {'comments': 29, 'retweets': 70, 'quotes': 7, 'likes': 287},\n",
       "   'pictures': [],\n",
       "   'videos': [],\n",
       "   'gifs': []},\n",
       "  {'link': 'https://twitter.com/RBI/status/1733102224564269502#m',\n",
       "   'text': 'Highlights of the Monetary Policy announcement today by Governor Shri @DasShaktikanta.   #rbi #rbitoday #rbigovernor #rbipolicy #monetarypolicy #rbimonetarypolicy #shaktikantadas',\n",
       "   'user': {'name': 'ReserveBankOfIndia',\n",
       "    'username': '@RBI',\n",
       "    'profile_id': '578162805666230272',\n",
       "    'avatar': 'https://pbs.twimg.com/profile_images/578162805666230272/cCkngdx2_bigger.jpeg'},\n",
       "   'date': 'Dec 8, 2023 · 12:32 PM UTC',\n",
       "   'is-retweet': False,\n",
       "   'external-link': '',\n",
       "   'quoted-post': {},\n",
       "   'stats': {'comments': 52, 'retweets': 92, 'quotes': 9, 'likes': 432},\n",
       "   'pictures': ['https://pbs.twimg.com/media/GA03SDyboAA9ifl.jpg',\n",
       "    'https://pbs.twimg.com/media/GA03SD0aYAAkt3P.jpg',\n",
       "    'https://pbs.twimg.com/media/GA03SD4bAAAsXEz.jpg',\n",
       "    'https://pbs.twimg.com/media/GA03SFObQAAvr63.jpg'],\n",
       "   'videos': [],\n",
       "   'gifs': []},\n",
       "  {'link': 'https://twitter.com/RBI/status/1733030518399373385#m',\n",
       "   'text': 'MPC Press Conference – December 8, 2023 - Governor’s Opening Remarks @DasShaktikanta #RBItoday #RBIgovernor #monetarypolicy https://www.rbi.org.in/Scripts/BS_PressReleaseDisplay.aspx?prid=56892',\n",
       "   'user': {'name': 'ReserveBankOfIndia',\n",
       "    'username': '@RBI',\n",
       "    'profile_id': '578162805666230272',\n",
       "    'avatar': 'https://pbs.twimg.com/profile_images/578162805666230272/cCkngdx2_bigger.jpeg'},\n",
       "   'date': 'Dec 8, 2023 · 7:47 AM UTC',\n",
       "   'is-retweet': False,\n",
       "   'external-link': '',\n",
       "   'quoted-post': {},\n",
       "   'stats': {'comments': 18, 'retweets': 24, 'quotes': 0, 'likes': 108},\n",
       "   'pictures': [],\n",
       "   'videos': [],\n",
       "   'gifs': []}],\n",
       " 'threads': []}"
      ]
     },
     "execution_count": 5,
     "metadata": {},
     "output_type": "execute_result"
    }
   ],
   "source": [
    "# Twitter Link\n",
    "# https://twitter.com/RBI\n",
    "\n",
    "RBI_Tweets = scraper.get_tweets('RBI',mode='user',number=5,since='2023-12-01')\n",
    "\n",
    "print(len(RBI_Tweets))\n",
    "RBI_Tweets"
   ]
  },
  {
   "cell_type": "code",
   "execution_count": 11,
   "metadata": {},
   "outputs": [
    {
     "data": {
      "text/plain": [
       "dict"
      ]
     },
     "execution_count": 11,
     "metadata": {},
     "output_type": "execute_result"
    }
   ],
   "source": [
    "type(RBI_Tweets)"
   ]
  },
  {
   "cell_type": "code",
   "execution_count": 12,
   "metadata": {},
   "outputs": [
    {
     "data": {
      "text/plain": [
       "dict_keys(['tweets', 'threads'])"
      ]
     },
     "execution_count": 12,
     "metadata": {},
     "output_type": "execute_result"
    }
   ],
   "source": [
    "RBI_Tweets.keys()"
   ]
  },
  {
   "cell_type": "code",
   "execution_count": 7,
   "metadata": {},
   "outputs": [
    {
     "data": {
      "text/plain": [
       "2"
      ]
     },
     "execution_count": 7,
     "metadata": {},
     "output_type": "execute_result"
    }
   ],
   "source": [
    "len(RBI_Tweets)"
   ]
  },
  {
   "cell_type": "markdown",
   "metadata": {},
   "source": [
    "# **Access Tweet Data**"
   ]
  },
  {
   "cell_type": "code",
   "execution_count": 10,
   "metadata": {},
   "outputs": [
    {
     "name": "stdout",
     "output_type": "stream",
     "text": [
      "{'link': 'https://twitter.com/RBI/status/1734155380316586299#m', 'text': 'Regulatory Sandbox: On Tap application on theme ‘Retail Payments’ – Completion of Test Phase https://www.rbi.org.in/Scripts/BS_PressReleaseDisplay.aspx?prid=56911', 'user': {'name': 'ReserveBankOfIndia', 'username': '@RBI', 'profile_id': '578162805666230272', 'avatar': 'https://pbs.twimg.com/profile_images/578162805666230272/cCkngdx2_bigger.jpeg'}, 'date': 'Dec 11, 2023 · 10:17 AM UTC', 'is-retweet': False, 'external-link': '', 'quoted-post': {}, 'stats': {'comments': 48, 'retweets': 15, 'quotes': 3, 'likes': 125}, 'pictures': [], 'videos': [], 'gifs': []}\n",
      "{'link': 'https://twitter.com/RBI/status/1734151485678850273#m', 'text': 'State Finances: A Study of Budgets of 2023-24 https://www.rbi.org.in/Scripts/BS_PressReleaseDisplay.aspx?prid=56910', 'user': {'name': 'ReserveBankOfIndia', 'username': '@RBI', 'profile_id': '578162805666230272', 'avatar': 'https://pbs.twimg.com/profile_images/578162805666230272/cCkngdx2_bigger.jpeg'}, 'date': 'Dec 11, 2023 · 10:01 AM UTC', 'is-retweet': False, 'external-link': '', 'quoted-post': {}, 'stats': {'comments': 16, 'retweets': 29, 'quotes': 1, 'likes': 159}, 'pictures': [], 'videos': [], 'gifs': []}\n",
      "{'link': 'https://twitter.com/RBI/status/1734094967403163714#m', 'text': 'RBI Cautions against unauthorised campaigns on Loan waiver https://rbi.org.in/Scripts/BS_PressReleaseDisplay.aspx?prid=56909', 'user': {'name': 'ReserveBankOfIndia', 'username': '@RBI', 'profile_id': '578162805666230272', 'avatar': 'https://pbs.twimg.com/profile_images/578162805666230272/cCkngdx2_bigger.jpeg'}, 'date': 'Dec 11, 2023 · 6:17 AM UTC', 'is-retweet': False, 'external-link': '', 'quoted-post': {}, 'stats': {'comments': 29, 'retweets': 70, 'quotes': 7, 'likes': 287}, 'pictures': [], 'videos': [], 'gifs': []}\n",
      "{'link': 'https://twitter.com/RBI/status/1733102224564269502#m', 'text': 'Highlights of the Monetary Policy announcement today by Governor Shri @DasShaktikanta.   #rbi #rbitoday #rbigovernor #rbipolicy #monetarypolicy #rbimonetarypolicy #shaktikantadas', 'user': {'name': 'ReserveBankOfIndia', 'username': '@RBI', 'profile_id': '578162805666230272', 'avatar': 'https://pbs.twimg.com/profile_images/578162805666230272/cCkngdx2_bigger.jpeg'}, 'date': 'Dec 8, 2023 · 12:32 PM UTC', 'is-retweet': False, 'external-link': '', 'quoted-post': {}, 'stats': {'comments': 52, 'retweets': 92, 'quotes': 9, 'likes': 432}, 'pictures': ['https://pbs.twimg.com/media/GA03SDyboAA9ifl.jpg', 'https://pbs.twimg.com/media/GA03SD0aYAAkt3P.jpg', 'https://pbs.twimg.com/media/GA03SD4bAAAsXEz.jpg', 'https://pbs.twimg.com/media/GA03SFObQAAvr63.jpg'], 'videos': [], 'gifs': []}\n",
      "{'link': 'https://twitter.com/RBI/status/1733030518399373385#m', 'text': 'MPC Press Conference – December 8, 2023 - Governor’s Opening Remarks @DasShaktikanta #RBItoday #RBIgovernor #monetarypolicy https://www.rbi.org.in/Scripts/BS_PressReleaseDisplay.aspx?prid=56892', 'user': {'name': 'ReserveBankOfIndia', 'username': '@RBI', 'profile_id': '578162805666230272', 'avatar': 'https://pbs.twimg.com/profile_images/578162805666230272/cCkngdx2_bigger.jpeg'}, 'date': 'Dec 8, 2023 · 7:47 AM UTC', 'is-retweet': False, 'external-link': '', 'quoted-post': {}, 'stats': {'comments': 18, 'retweets': 24, 'quotes': 0, 'likes': 108}, 'pictures': [], 'videos': [], 'gifs': []}\n"
     ]
    }
   ],
   "source": [
    "for tweet in RBI_Tweets['tweets']:\n",
    "    print(tweet)"
   ]
  },
  {
   "cell_type": "code",
   "execution_count": 17,
   "metadata": {},
   "outputs": [
    {
     "data": {
      "text/plain": [
       "list"
      ]
     },
     "execution_count": 17,
     "metadata": {},
     "output_type": "execute_result"
    }
   ],
   "source": [
    "type(list(RBI_Tweets['tweets'][0].keys()))"
   ]
  },
  {
   "cell_type": "markdown",
   "metadata": {},
   "source": [
    "# **Create Tweet Dataframe**"
   ]
  },
  {
   "cell_type": "code",
   "execution_count": 23,
   "metadata": {},
   "outputs": [
    {
     "data": {
      "text/plain": [
       "dict_keys(['link', 'text', 'user', 'date', 'is-retweet', 'external-link', 'quoted-post', 'stats', 'pictures', 'videos', 'gifs'])"
      ]
     },
     "execution_count": 23,
     "metadata": {},
     "output_type": "execute_result"
    }
   ],
   "source": [
    "RBI_Tweets['tweets'][0].keys()"
   ]
  },
  {
   "cell_type": "code",
   "execution_count": 24,
   "metadata": {},
   "outputs": [
    {
     "data": {
      "text/plain": [
       "dict_values(['https://twitter.com/RBI/status/1734155380316586299#m', 'Regulatory Sandbox: On Tap application on theme ‘Retail Payments’ – Completion of Test Phase https://www.rbi.org.in/Scripts/BS_PressReleaseDisplay.aspx?prid=56911', {'name': 'ReserveBankOfIndia', 'username': '@RBI', 'profile_id': '578162805666230272', 'avatar': 'https://pbs.twimg.com/profile_images/578162805666230272/cCkngdx2_bigger.jpeg'}, 'Dec 11, 2023 · 10:17 AM UTC', False, '', {}, {'comments': 48, 'retweets': 15, 'quotes': 3, 'likes': 125}, [], [], []])"
      ]
     },
     "execution_count": 24,
     "metadata": {},
     "output_type": "execute_result"
    }
   ],
   "source": [
    "RBI_Tweets['tweets'][0].values()"
   ]
  },
  {
   "cell_type": "code",
   "execution_count": 53,
   "metadata": {},
   "outputs": [
    {
     "name": "stdout",
     "output_type": "stream",
     "text": [
      "Initial Dataframe Shape:  (0, 11)\n"
     ]
    },
    {
     "data": {
      "text/html": [
       "<div>\n",
       "<style scoped>\n",
       "    .dataframe tbody tr th:only-of-type {\n",
       "        vertical-align: middle;\n",
       "    }\n",
       "\n",
       "    .dataframe tbody tr th {\n",
       "        vertical-align: top;\n",
       "    }\n",
       "\n",
       "    .dataframe thead th {\n",
       "        text-align: right;\n",
       "    }\n",
       "</style>\n",
       "<table border=\"1\" class=\"dataframe\">\n",
       "  <thead>\n",
       "    <tr style=\"text-align: right;\">\n",
       "      <th></th>\n",
       "      <th>link</th>\n",
       "      <th>text</th>\n",
       "      <th>user</th>\n",
       "      <th>date</th>\n",
       "      <th>is-retweet</th>\n",
       "      <th>external-link</th>\n",
       "      <th>quoted-post</th>\n",
       "      <th>stats</th>\n",
       "      <th>pictures</th>\n",
       "      <th>videos</th>\n",
       "      <th>gifs</th>\n",
       "    </tr>\n",
       "  </thead>\n",
       "  <tbody>\n",
       "  </tbody>\n",
       "</table>\n",
       "</div>"
      ],
      "text/plain": [
       "Empty DataFrame\n",
       "Columns: [link, text, user, date, is-retweet, external-link, quoted-post, stats, pictures, videos, gifs]\n",
       "Index: []"
      ]
     },
     "execution_count": 53,
     "metadata": {},
     "output_type": "execute_result"
    }
   ],
   "source": [
    "# Tweet Data Headers\n",
    "tweet_data_headers = list(RBI_Tweets['tweets'][0].keys())\n",
    "\n",
    "# Create Empty Dataframe\n",
    "df = pd.DataFrame(columns=tweet_data_headers)\n",
    "print('Initial Dataframe Shape: ',df.shape)\n",
    "df"
   ]
  },
  {
   "cell_type": "code",
   "execution_count": 59,
   "metadata": {},
   "outputs": [
    {
     "data": {
      "text/plain": [
       "{'link': 'https://twitter.com/RBI/status/1734155380316586299#m',\n",
       " 'text': 'Regulatory Sandbox: On Tap application on theme ‘Retail Payments’ – Completion of Test Phase https://www.rbi.org.in/Scripts/BS_PressReleaseDisplay.aspx?prid=56911',\n",
       " 'user': {'name': 'ReserveBankOfIndia',\n",
       "  'username': '@RBI',\n",
       "  'profile_id': '578162805666230272',\n",
       "  'avatar': 'https://pbs.twimg.com/profile_images/578162805666230272/cCkngdx2_bigger.jpeg'},\n",
       " 'date': 'Dec 11, 2023 · 10:17 AM UTC',\n",
       " 'is-retweet': False,\n",
       " 'external-link': '',\n",
       " 'quoted-post': {},\n",
       " 'stats': {'comments': 48, 'retweets': 15, 'quotes': 3, 'likes': 125},\n",
       " 'pictures': [],\n",
       " 'videos': [],\n",
       " 'gifs': []}"
      ]
     },
     "execution_count": 59,
     "metadata": {},
     "output_type": "execute_result"
    }
   ],
   "source": [
    "RBI_Tweets['tweets'][0]"
   ]
  },
  {
   "cell_type": "code",
   "execution_count": 68,
   "metadata": {},
   "outputs": [
    {
     "name": "stdout",
     "output_type": "stream",
     "text": [
      "Initial Dataframe Shape:  (0, 11)\n"
     ]
    },
    {
     "data": {
      "text/html": [
       "<div>\n",
       "<style scoped>\n",
       "    .dataframe tbody tr th:only-of-type {\n",
       "        vertical-align: middle;\n",
       "    }\n",
       "\n",
       "    .dataframe tbody tr th {\n",
       "        vertical-align: top;\n",
       "    }\n",
       "\n",
       "    .dataframe thead th {\n",
       "        text-align: right;\n",
       "    }\n",
       "</style>\n",
       "<table border=\"1\" class=\"dataframe\">\n",
       "  <thead>\n",
       "    <tr style=\"text-align: right;\">\n",
       "      <th></th>\n",
       "      <th>link</th>\n",
       "      <th>text</th>\n",
       "      <th>user</th>\n",
       "      <th>date</th>\n",
       "      <th>is-retweet</th>\n",
       "      <th>external-link</th>\n",
       "      <th>quoted-post</th>\n",
       "      <th>stats</th>\n",
       "      <th>pictures</th>\n",
       "      <th>videos</th>\n",
       "      <th>gifs</th>\n",
       "    </tr>\n",
       "  </thead>\n",
       "  <tbody>\n",
       "    <tr>\n",
       "      <th>0</th>\n",
       "      <td>https://twitter.com/RBI/status/173415538031658...</td>\n",
       "      <td>Regulatory Sandbox: On Tap application on them...</td>\n",
       "      <td>{'name': 'ReserveBankOfIndia', 'username': '@R...</td>\n",
       "      <td>Dec 11, 2023 · 10:17 AM UTC</td>\n",
       "      <td>False</td>\n",
       "      <td></td>\n",
       "      <td>{}</td>\n",
       "      <td>{'comments': 48, 'retweets': 15, 'quotes': 3, ...</td>\n",
       "      <td>[]</td>\n",
       "      <td>[]</td>\n",
       "      <td>[]</td>\n",
       "    </tr>\n",
       "    <tr>\n",
       "      <th>1</th>\n",
       "      <td>https://twitter.com/RBI/status/173415148567885...</td>\n",
       "      <td>State Finances: A Study of Budgets of 2023-24 ...</td>\n",
       "      <td>{'name': 'ReserveBankOfIndia', 'username': '@R...</td>\n",
       "      <td>Dec 11, 2023 · 10:01 AM UTC</td>\n",
       "      <td>False</td>\n",
       "      <td></td>\n",
       "      <td>{}</td>\n",
       "      <td>{'comments': 16, 'retweets': 29, 'quotes': 1, ...</td>\n",
       "      <td>[]</td>\n",
       "      <td>[]</td>\n",
       "      <td>[]</td>\n",
       "    </tr>\n",
       "    <tr>\n",
       "      <th>2</th>\n",
       "      <td>https://twitter.com/RBI/status/173409496740316...</td>\n",
       "      <td>RBI Cautions against unauthorised campaigns on...</td>\n",
       "      <td>{'name': 'ReserveBankOfIndia', 'username': '@R...</td>\n",
       "      <td>Dec 11, 2023 · 6:17 AM UTC</td>\n",
       "      <td>False</td>\n",
       "      <td></td>\n",
       "      <td>{}</td>\n",
       "      <td>{'comments': 29, 'retweets': 70, 'quotes': 7, ...</td>\n",
       "      <td>[]</td>\n",
       "      <td>[]</td>\n",
       "      <td>[]</td>\n",
       "    </tr>\n",
       "    <tr>\n",
       "      <th>3</th>\n",
       "      <td>https://twitter.com/RBI/status/173310222456426...</td>\n",
       "      <td>Highlights of the Monetary Policy announcement...</td>\n",
       "      <td>{'name': 'ReserveBankOfIndia', 'username': '@R...</td>\n",
       "      <td>Dec 8, 2023 · 12:32 PM UTC</td>\n",
       "      <td>False</td>\n",
       "      <td></td>\n",
       "      <td>{}</td>\n",
       "      <td>{'comments': 52, 'retweets': 92, 'quotes': 9, ...</td>\n",
       "      <td>[https://pbs.twimg.com/media/GA03SDyboAA9ifl.j...</td>\n",
       "      <td>[]</td>\n",
       "      <td>[]</td>\n",
       "    </tr>\n",
       "    <tr>\n",
       "      <th>4</th>\n",
       "      <td>https://twitter.com/RBI/status/173303051839937...</td>\n",
       "      <td>MPC Press Conference – December 8, 2023 - Gove...</td>\n",
       "      <td>{'name': 'ReserveBankOfIndia', 'username': '@R...</td>\n",
       "      <td>Dec 8, 2023 · 7:47 AM UTC</td>\n",
       "      <td>False</td>\n",
       "      <td></td>\n",
       "      <td>{}</td>\n",
       "      <td>{'comments': 18, 'retweets': 24, 'quotes': 0, ...</td>\n",
       "      <td>[]</td>\n",
       "      <td>[]</td>\n",
       "      <td>[]</td>\n",
       "    </tr>\n",
       "  </tbody>\n",
       "</table>\n",
       "</div>"
      ],
      "text/plain": [
       "                                                link  \\\n",
       "0  https://twitter.com/RBI/status/173415538031658...   \n",
       "1  https://twitter.com/RBI/status/173415148567885...   \n",
       "2  https://twitter.com/RBI/status/173409496740316...   \n",
       "3  https://twitter.com/RBI/status/173310222456426...   \n",
       "4  https://twitter.com/RBI/status/173303051839937...   \n",
       "\n",
       "                                                text  \\\n",
       "0  Regulatory Sandbox: On Tap application on them...   \n",
       "1  State Finances: A Study of Budgets of 2023-24 ...   \n",
       "2  RBI Cautions against unauthorised campaigns on...   \n",
       "3  Highlights of the Monetary Policy announcement...   \n",
       "4  MPC Press Conference – December 8, 2023 - Gove...   \n",
       "\n",
       "                                                user  \\\n",
       "0  {'name': 'ReserveBankOfIndia', 'username': '@R...   \n",
       "1  {'name': 'ReserveBankOfIndia', 'username': '@R...   \n",
       "2  {'name': 'ReserveBankOfIndia', 'username': '@R...   \n",
       "3  {'name': 'ReserveBankOfIndia', 'username': '@R...   \n",
       "4  {'name': 'ReserveBankOfIndia', 'username': '@R...   \n",
       "\n",
       "                          date is-retweet external-link quoted-post  \\\n",
       "0  Dec 11, 2023 · 10:17 AM UTC      False                        {}   \n",
       "1  Dec 11, 2023 · 10:01 AM UTC      False                        {}   \n",
       "2   Dec 11, 2023 · 6:17 AM UTC      False                        {}   \n",
       "3   Dec 8, 2023 · 12:32 PM UTC      False                        {}   \n",
       "4    Dec 8, 2023 · 7:47 AM UTC      False                        {}   \n",
       "\n",
       "                                               stats  \\\n",
       "0  {'comments': 48, 'retweets': 15, 'quotes': 3, ...   \n",
       "1  {'comments': 16, 'retweets': 29, 'quotes': 1, ...   \n",
       "2  {'comments': 29, 'retweets': 70, 'quotes': 7, ...   \n",
       "3  {'comments': 52, 'retweets': 92, 'quotes': 9, ...   \n",
       "4  {'comments': 18, 'retweets': 24, 'quotes': 0, ...   \n",
       "\n",
       "                                            pictures videos gifs  \n",
       "0                                                 []     []   []  \n",
       "1                                                 []     []   []  \n",
       "2                                                 []     []   []  \n",
       "3  [https://pbs.twimg.com/media/GA03SDyboAA9ifl.j...     []   []  \n",
       "4                                                 []     []   []  "
      ]
     },
     "execution_count": 68,
     "metadata": {},
     "output_type": "execute_result"
    }
   ],
   "source": [
    "# Tweet Data Headers\n",
    "tweet_data_headers = list(RBI_Tweets['tweets'][0].keys())\n",
    "\n",
    "# Create Empty Dataframe\n",
    "df = pd.DataFrame(columns=tweet_data_headers)\n",
    "print('Initial Dataframe Shape: ',df.shape)\n",
    "\n",
    "for tweet in RBI_Tweets['tweets']:\n",
    "    # print(type(tweet))\n",
    "    # print(tweet)\n",
    "\n",
    "    # Append New Row\n",
    "    df = df._append(tweet,ignore_index=True)\n",
    "    \n",
    "    # print('Modified Dataframe Shape: ',df.shape)\n",
    "    # print('\\n')\n",
    "\n",
    "df"
   ]
  },
  {
   "cell_type": "markdown",
   "metadata": {},
   "source": [
    "# **Define Function**"
   ]
  },
  {
   "cell_type": "code",
   "execution_count": 78,
   "metadata": {},
   "outputs": [],
   "source": [
    "def get_tweet_data(keyword,mode,n,since_date):\n",
    "    '''\n",
    "    keyword = str; Search Keyword\n",
    "    mode = str; 'user','hash',\n",
    "    n = int; \n",
    "    since_date = str; 'YYYY-MM-DD'\n",
    "    '''\n",
    "    # scraper = Nitter()\n",
    "    tweet_data = scraper.get_tweets(keyword,mode=mode,number=n,since=since_date)['tweets']\n",
    "    df = pd.DataFrame(columns=list(tweet_data[0].keys()))\n",
    "    for tweet in tweet_data:\n",
    "        df = df._append(tweet,ignore_index=True)\n",
    "    \n",
    "    return df"
   ]
  },
  {
   "cell_type": "markdown",
   "metadata": {},
   "source": [
    "## **User Mode Trial**"
   ]
  },
  {
   "cell_type": "code",
   "execution_count": 72,
   "metadata": {},
   "outputs": [
    {
     "name": "stdout",
     "output_type": "stream",
     "text": [
      "15-Dec-23 13:25:19 - No instance specified, using random instance https://nitter.adminforge.de\n",
      "15-Dec-23 13:25:26 - Current stats for DRDO_India: 5 tweets, 0 threads...\n",
      "15-Dec-23 13:25:28 - Empty page on https://nitter.adminforge.de\n"
     ]
    },
    {
     "data": {
      "text/html": [
       "<div>\n",
       "<style scoped>\n",
       "    .dataframe tbody tr th:only-of-type {\n",
       "        vertical-align: middle;\n",
       "    }\n",
       "\n",
       "    .dataframe tbody tr th {\n",
       "        vertical-align: top;\n",
       "    }\n",
       "\n",
       "    .dataframe thead th {\n",
       "        text-align: right;\n",
       "    }\n",
       "</style>\n",
       "<table border=\"1\" class=\"dataframe\">\n",
       "  <thead>\n",
       "    <tr style=\"text-align: right;\">\n",
       "      <th></th>\n",
       "      <th>link</th>\n",
       "      <th>text</th>\n",
       "      <th>user</th>\n",
       "      <th>date</th>\n",
       "      <th>is-retweet</th>\n",
       "      <th>external-link</th>\n",
       "      <th>quoted-post</th>\n",
       "      <th>stats</th>\n",
       "      <th>pictures</th>\n",
       "      <th>videos</th>\n",
       "      <th>gifs</th>\n",
       "    </tr>\n",
       "  </thead>\n",
       "  <tbody>\n",
       "    <tr>\n",
       "      <th>0</th>\n",
       "      <td>https://twitter.com/SpokespersonMoD/status/173...</td>\n",
       "      <td>India achieves a significant milestone in #UAV...</td>\n",
       "      <td>{'name': 'A. Bharat Bhushan Babu', 'username':...</td>\n",
       "      <td>Dec 15, 2023 · 12:42 PM UTC</td>\n",
       "      <td>True</td>\n",
       "      <td></td>\n",
       "      <td>{}</td>\n",
       "      <td>{'comments': 2, 'retweets': 34, 'quotes': 2, '...</td>\n",
       "      <td>[https://pbs.twimg.com/media/GBY2r49b0AARple.jpg]</td>\n",
       "      <td>[]</td>\n",
       "      <td>[]</td>\n",
       "    </tr>\n",
       "    <tr>\n",
       "      <th>1</th>\n",
       "      <td>https://twitter.com/DRDO_India/status/17356227...</td>\n",
       "      <td>#DRDOUpdates | DRDO successfully conducted fli...</td>\n",
       "      <td>{'name': 'DRDO', 'username': '@DRDO_India', 'p...</td>\n",
       "      <td>Dec 15, 2023 · 11:28 AM UTC</td>\n",
       "      <td>False</td>\n",
       "      <td></td>\n",
       "      <td>{}</td>\n",
       "      <td>{'comments': 75, 'retweets': 659, 'quotes': 63...</td>\n",
       "      <td>[]</td>\n",
       "      <td>[https://video.twimg.com/amplify_video/1735622...</td>\n",
       "      <td>[]</td>\n",
       "    </tr>\n",
       "    <tr>\n",
       "      <th>2</th>\n",
       "      <td>https://twitter.com/DRDO_India/status/17333500...</td>\n",
       "      <td>Engaging with thought leaders, industry expert...</td>\n",
       "      <td>{'name': 'DRDO', 'username': '@DRDO_India', 'p...</td>\n",
       "      <td>Dec 9, 2023 · 4:57 AM UTC</td>\n",
       "      <td>False</td>\n",
       "      <td></td>\n",
       "      <td>{}</td>\n",
       "      <td>{'comments': 0, 'retweets': 4, 'quotes': 0, 'l...</td>\n",
       "      <td>[]</td>\n",
       "      <td>[]</td>\n",
       "      <td>[]</td>\n",
       "    </tr>\n",
       "    <tr>\n",
       "      <th>3</th>\n",
       "      <td>https://twitter.com/DRDO_India/status/17333500...</td>\n",
       "      <td>#DRDOUpdates | DRDO organised an insightful Wi...</td>\n",
       "      <td>{'name': 'DRDO', 'username': '@DRDO_India', 'p...</td>\n",
       "      <td>Dec 9, 2023 · 4:57 AM UTC</td>\n",
       "      <td>False</td>\n",
       "      <td></td>\n",
       "      <td>{}</td>\n",
       "      <td>{'comments': 2, 'retweets': 53, 'quotes': 2, '...</td>\n",
       "      <td>[https://pbs.twimg.com/media/GA4Ym4KXUAApHfU.j...</td>\n",
       "      <td>[]</td>\n",
       "      <td>[]</td>\n",
       "    </tr>\n",
       "    <tr>\n",
       "      <th>4</th>\n",
       "      <td>https://twitter.com/DRDO_India/status/17329831...</td>\n",
       "      <td>#DRDOUpdates | DRDO is participating in 'Bihar...</td>\n",
       "      <td>{'name': 'DRDO', 'username': '@DRDO_India', 'p...</td>\n",
       "      <td>Dec 8, 2023 · 4:39 AM UTC</td>\n",
       "      <td>False</td>\n",
       "      <td></td>\n",
       "      <td>{}</td>\n",
       "      <td>{'comments': 1, 'retweets': 31, 'quotes': 0, '...</td>\n",
       "      <td>[https://pbs.twimg.com/media/GAzLAVcWwAAwsG7.jpg]</td>\n",
       "      <td>[]</td>\n",
       "      <td>[]</td>\n",
       "    </tr>\n",
       "  </tbody>\n",
       "</table>\n",
       "</div>"
      ],
      "text/plain": [
       "                                                link  \\\n",
       "0  https://twitter.com/SpokespersonMoD/status/173...   \n",
       "1  https://twitter.com/DRDO_India/status/17356227...   \n",
       "2  https://twitter.com/DRDO_India/status/17333500...   \n",
       "3  https://twitter.com/DRDO_India/status/17333500...   \n",
       "4  https://twitter.com/DRDO_India/status/17329831...   \n",
       "\n",
       "                                                text  \\\n",
       "0  India achieves a significant milestone in #UAV...   \n",
       "1  #DRDOUpdates | DRDO successfully conducted fli...   \n",
       "2  Engaging with thought leaders, industry expert...   \n",
       "3  #DRDOUpdates | DRDO organised an insightful Wi...   \n",
       "4  #DRDOUpdates | DRDO is participating in 'Bihar...   \n",
       "\n",
       "                                                user  \\\n",
       "0  {'name': 'A. Bharat Bhushan Babu', 'username':...   \n",
       "1  {'name': 'DRDO', 'username': '@DRDO_India', 'p...   \n",
       "2  {'name': 'DRDO', 'username': '@DRDO_India', 'p...   \n",
       "3  {'name': 'DRDO', 'username': '@DRDO_India', 'p...   \n",
       "4  {'name': 'DRDO', 'username': '@DRDO_India', 'p...   \n",
       "\n",
       "                          date is-retweet external-link quoted-post  \\\n",
       "0  Dec 15, 2023 · 12:42 PM UTC       True                        {}   \n",
       "1  Dec 15, 2023 · 11:28 AM UTC      False                        {}   \n",
       "2    Dec 9, 2023 · 4:57 AM UTC      False                        {}   \n",
       "3    Dec 9, 2023 · 4:57 AM UTC      False                        {}   \n",
       "4    Dec 8, 2023 · 4:39 AM UTC      False                        {}   \n",
       "\n",
       "                                               stats  \\\n",
       "0  {'comments': 2, 'retweets': 34, 'quotes': 2, '...   \n",
       "1  {'comments': 75, 'retweets': 659, 'quotes': 63...   \n",
       "2  {'comments': 0, 'retweets': 4, 'quotes': 0, 'l...   \n",
       "3  {'comments': 2, 'retweets': 53, 'quotes': 2, '...   \n",
       "4  {'comments': 1, 'retweets': 31, 'quotes': 0, '...   \n",
       "\n",
       "                                            pictures  \\\n",
       "0  [https://pbs.twimg.com/media/GBY2r49b0AARple.jpg]   \n",
       "1                                                 []   \n",
       "2                                                 []   \n",
       "3  [https://pbs.twimg.com/media/GA4Ym4KXUAApHfU.j...   \n",
       "4  [https://pbs.twimg.com/media/GAzLAVcWwAAwsG7.jpg]   \n",
       "\n",
       "                                              videos gifs  \n",
       "0                                                 []   []  \n",
       "1  [https://video.twimg.com/amplify_video/1735622...   []  \n",
       "2                                                 []   []  \n",
       "3                                                 []   []  \n",
       "4                                                 []   []  "
      ]
     },
     "execution_count": 72,
     "metadata": {},
     "output_type": "execute_result"
    }
   ],
   "source": [
    "get_tweet_data('DRDO_India','user',5,'2023-12-01')"
   ]
  },
  {
   "cell_type": "markdown",
   "metadata": {},
   "source": [
    "## **Hash Tag Mode Trial**"
   ]
  },
  {
   "cell_type": "code",
   "execution_count": 74,
   "metadata": {},
   "outputs": [
    {
     "name": "stdout",
     "output_type": "stream",
     "text": [
      "15-Dec-23 13:26:07 - No instance specified, using random instance https://nitter.adminforge.de\n",
      "15-Dec-23 13:26:14 - Current stats for DRDO: 5 tweets, 0 threads...\n"
     ]
    },
    {
     "data": {
      "text/html": [
       "<div>\n",
       "<style scoped>\n",
       "    .dataframe tbody tr th:only-of-type {\n",
       "        vertical-align: middle;\n",
       "    }\n",
       "\n",
       "    .dataframe tbody tr th {\n",
       "        vertical-align: top;\n",
       "    }\n",
       "\n",
       "    .dataframe thead th {\n",
       "        text-align: right;\n",
       "    }\n",
       "</style>\n",
       "<table border=\"1\" class=\"dataframe\">\n",
       "  <thead>\n",
       "    <tr style=\"text-align: right;\">\n",
       "      <th></th>\n",
       "      <th>link</th>\n",
       "      <th>text</th>\n",
       "      <th>user</th>\n",
       "      <th>date</th>\n",
       "      <th>is-retweet</th>\n",
       "      <th>external-link</th>\n",
       "      <th>quoted-post</th>\n",
       "      <th>stats</th>\n",
       "      <th>pictures</th>\n",
       "      <th>videos</th>\n",
       "      <th>gifs</th>\n",
       "    </tr>\n",
       "  </thead>\n",
       "  <tbody>\n",
       "    <tr>\n",
       "      <th>0</th>\n",
       "      <td>https://twitter.com/ani_digital/status/1735638...</td>\n",
       "      <td>DRDO carries out successful flight trial of le...</td>\n",
       "      <td>{'name': 'ANI Digital', 'username': '@ani_digi...</td>\n",
       "      <td>Dec 15, 2023 · 12:30 PM UTC</td>\n",
       "      <td>True</td>\n",
       "      <td></td>\n",
       "      <td>{}</td>\n",
       "      <td>{'comments': 1, 'retweets': 18, 'quotes': 1, '...</td>\n",
       "      <td>[https://pbs.twimg.com/media/GBYyD2WXgAASssK.png]</td>\n",
       "      <td>[]</td>\n",
       "      <td>[]</td>\n",
       "    </tr>\n",
       "    <tr>\n",
       "      <th>1</th>\n",
       "      <td>https://twitter.com/polimernews/status/1735646...</td>\n",
       "      <td>#JUSTIN || இந்தியாவிற்கு மேலும் ஒரு வெற்றி.. |...</td>\n",
       "      <td>{'name': 'Polimer News', 'username': '@polimer...</td>\n",
       "      <td>Dec 15, 2023 · 1:03 PM UTC</td>\n",
       "      <td>True</td>\n",
       "      <td></td>\n",
       "      <td>{}</td>\n",
       "      <td>{'comments': 1, 'retweets': 15, 'quotes': 0, '...</td>\n",
       "      <td>[https://pbs.twimg.com/media/GBZBmh8akAA03-H.jpg]</td>\n",
       "      <td>[]</td>\n",
       "      <td>[]</td>\n",
       "    </tr>\n",
       "    <tr>\n",
       "      <th>2</th>\n",
       "      <td>https://twitter.com/eOrganiser/status/17356433...</td>\n",
       "      <td>#DRDO has successfully demonstrated the flight...</td>\n",
       "      <td>{'name': 'Organiser Weekly', 'username': '@eOr...</td>\n",
       "      <td>Dec 15, 2023 · 12:50 PM UTC</td>\n",
       "      <td>True</td>\n",
       "      <td></td>\n",
       "      <td>{}</td>\n",
       "      <td>{'comments': 0, 'retweets': 8, 'quotes': 0, 'l...</td>\n",
       "      <td>[]</td>\n",
       "      <td>[https://video.twimg.com/ext_tw_video/17356174...</td>\n",
       "      <td>[]</td>\n",
       "    </tr>\n",
       "    <tr>\n",
       "      <th>3</th>\n",
       "      <td>https://twitter.com/NewsIADN/status/1735623162...</td>\n",
       "      <td>#India joins an elite club of nations as #DRDO...</td>\n",
       "      <td>{'name': 'IADN Centre', 'username': '@NewsIADN...</td>\n",
       "      <td>Dec 15, 2023 · 11:29 AM UTC</td>\n",
       "      <td>True</td>\n",
       "      <td></td>\n",
       "      <td>{}</td>\n",
       "      <td>{'comments': 0, 'retweets': 34, 'quotes': 5, '...</td>\n",
       "      <td>[]</td>\n",
       "      <td>[https://video.twimg.com/ext_tw_video/17356231...</td>\n",
       "      <td>[]</td>\n",
       "    </tr>\n",
       "    <tr>\n",
       "      <th>4</th>\n",
       "      <td>https://twitter.com/dinamalarweb/status/173561...</td>\n",
       "      <td>அதிவேகமாக பறக்கும் ஆளில்லா விமான சோதனை வெற்றி ...</td>\n",
       "      <td>{'name': 'Dinamalar', 'username': '@dinamalarw...</td>\n",
       "      <td>Dec 15, 2023 · 11:17 AM UTC</td>\n",
       "      <td>True</td>\n",
       "      <td></td>\n",
       "      <td>{}</td>\n",
       "      <td>{'comments': 0, 'retweets': 12, 'quotes': 0, '...</td>\n",
       "      <td>[https://pbs.twimg.com/media/GBYpK4lWwAAfSXZ.jpg]</td>\n",
       "      <td>[]</td>\n",
       "      <td>[]</td>\n",
       "    </tr>\n",
       "  </tbody>\n",
       "</table>\n",
       "</div>"
      ],
      "text/plain": [
       "                                                link  \\\n",
       "0  https://twitter.com/ani_digital/status/1735638...   \n",
       "1  https://twitter.com/polimernews/status/1735646...   \n",
       "2  https://twitter.com/eOrganiser/status/17356433...   \n",
       "3  https://twitter.com/NewsIADN/status/1735623162...   \n",
       "4  https://twitter.com/dinamalarweb/status/173561...   \n",
       "\n",
       "                                                text  \\\n",
       "0  DRDO carries out successful flight trial of le...   \n",
       "1  #JUSTIN || இந்தியாவிற்கு மேலும் ஒரு வெற்றி.. |...   \n",
       "2  #DRDO has successfully demonstrated the flight...   \n",
       "3  #India joins an elite club of nations as #DRDO...   \n",
       "4  அதிவேகமாக பறக்கும் ஆளில்லா விமான சோதனை வெற்றி ...   \n",
       "\n",
       "                                                user  \\\n",
       "0  {'name': 'ANI Digital', 'username': '@ani_digi...   \n",
       "1  {'name': 'Polimer News', 'username': '@polimer...   \n",
       "2  {'name': 'Organiser Weekly', 'username': '@eOr...   \n",
       "3  {'name': 'IADN Centre', 'username': '@NewsIADN...   \n",
       "4  {'name': 'Dinamalar', 'username': '@dinamalarw...   \n",
       "\n",
       "                          date is-retweet external-link quoted-post  \\\n",
       "0  Dec 15, 2023 · 12:30 PM UTC       True                        {}   \n",
       "1   Dec 15, 2023 · 1:03 PM UTC       True                        {}   \n",
       "2  Dec 15, 2023 · 12:50 PM UTC       True                        {}   \n",
       "3  Dec 15, 2023 · 11:29 AM UTC       True                        {}   \n",
       "4  Dec 15, 2023 · 11:17 AM UTC       True                        {}   \n",
       "\n",
       "                                               stats  \\\n",
       "0  {'comments': 1, 'retweets': 18, 'quotes': 1, '...   \n",
       "1  {'comments': 1, 'retweets': 15, 'quotes': 0, '...   \n",
       "2  {'comments': 0, 'retweets': 8, 'quotes': 0, 'l...   \n",
       "3  {'comments': 0, 'retweets': 34, 'quotes': 5, '...   \n",
       "4  {'comments': 0, 'retweets': 12, 'quotes': 0, '...   \n",
       "\n",
       "                                            pictures  \\\n",
       "0  [https://pbs.twimg.com/media/GBYyD2WXgAASssK.png]   \n",
       "1  [https://pbs.twimg.com/media/GBZBmh8akAA03-H.jpg]   \n",
       "2                                                 []   \n",
       "3                                                 []   \n",
       "4  [https://pbs.twimg.com/media/GBYpK4lWwAAfSXZ.jpg]   \n",
       "\n",
       "                                              videos gifs  \n",
       "0                                                 []   []  \n",
       "1                                                 []   []  \n",
       "2  [https://video.twimg.com/ext_tw_video/17356174...   []  \n",
       "3  [https://video.twimg.com/ext_tw_video/17356231...   []  \n",
       "4                                                 []   []  "
      ]
     },
     "execution_count": 74,
     "metadata": {},
     "output_type": "execute_result"
    }
   ],
   "source": [
    "get_tweet_data('#DRDO','hashtag',5,'2023-12-01')"
   ]
  },
  {
   "cell_type": "markdown",
   "metadata": {},
   "source": [
    "## **Search Term Mode**"
   ]
  },
  {
   "cell_type": "code",
   "execution_count": 77,
   "metadata": {},
   "outputs": [
    {
     "name": "stderr",
     "output_type": "stream",
     "text": [
      "Testing instances: 100%|██████████| 32/32 [00:56<00:00,  1.78s/it]"
     ]
    },
    {
     "name": "stdout",
     "output_type": "stream",
     "text": [
      "15-Dec-23 13:28:54 - No instance specified, using random instance https://nitter.adminforge.de\n"
     ]
    },
    {
     "name": "stderr",
     "output_type": "stream",
     "text": [
      "\n"
     ]
    },
    {
     "name": "stdout",
     "output_type": "stream",
     "text": [
      "15-Dec-23 13:29:00 - Current stats for Bharat: 5 tweets, 0 threads...\n"
     ]
    },
    {
     "data": {
      "text/html": [
       "<div>\n",
       "<style scoped>\n",
       "    .dataframe tbody tr th:only-of-type {\n",
       "        vertical-align: middle;\n",
       "    }\n",
       "\n",
       "    .dataframe tbody tr th {\n",
       "        vertical-align: top;\n",
       "    }\n",
       "\n",
       "    .dataframe thead th {\n",
       "        text-align: right;\n",
       "    }\n",
       "</style>\n",
       "<table border=\"1\" class=\"dataframe\">\n",
       "  <thead>\n",
       "    <tr style=\"text-align: right;\">\n",
       "      <th></th>\n",
       "      <th>link</th>\n",
       "      <th>text</th>\n",
       "      <th>user</th>\n",
       "      <th>date</th>\n",
       "      <th>is-retweet</th>\n",
       "      <th>external-link</th>\n",
       "      <th>quoted-post</th>\n",
       "      <th>stats</th>\n",
       "      <th>pictures</th>\n",
       "      <th>videos</th>\n",
       "      <th>gifs</th>\n",
       "    </tr>\n",
       "  </thead>\n",
       "  <tbody>\n",
       "    <tr>\n",
       "      <th>0</th>\n",
       "      <td>https://twitter.com/Cloud_Secret7/status/17355...</td>\n",
       "      <td>#अपठ्यारोमा साथ दिन्छन भनेर किन भ्रममा पर्नु ह...</td>\n",
       "      <td>{'name': 'डा पटमुर्ख', 'username': '@Cloud_Sec...</td>\n",
       "      <td>Dec 15, 2023 · 6:52 AM UTC</td>\n",
       "      <td>True</td>\n",
       "      <td></td>\n",
       "      <td>{}</td>\n",
       "      <td>{'comments': 4, 'retweets': 7, 'quotes': 0, 'l...</td>\n",
       "      <td>[]</td>\n",
       "      <td>[]</td>\n",
       "      <td>[]</td>\n",
       "    </tr>\n",
       "    <tr>\n",
       "      <th>1</th>\n",
       "      <td>https://twitter.com/ManishaSinghSP/status/1735...</td>\n",
       "      <td>अखिलेश यादव</td>\n",
       "      <td>{'name': 'INDIA=BHARAT', 'username': '@Manisha...</td>\n",
       "      <td>Dec 15, 2023 · 1:28 PM UTC</td>\n",
       "      <td>False</td>\n",
       "      <td></td>\n",
       "      <td>{}</td>\n",
       "      <td>{'comments': 0, 'retweets': 0, 'quotes': 0, 'l...</td>\n",
       "      <td>[]</td>\n",
       "      <td>[]</td>\n",
       "      <td>[]</td>\n",
       "    </tr>\n",
       "    <tr>\n",
       "      <th>2</th>\n",
       "      <td>https://twitter.com/folicacid371655/status/173...</td>\n",
       "      <td>Nowadays, #Kangla deshi has followed the path ...</td>\n",
       "      <td>{'name': 'folic acid', 'username': '@folicacid...</td>\n",
       "      <td>Dec 15, 2023 · 1:28 PM UTC</td>\n",
       "      <td>False</td>\n",
       "      <td></td>\n",
       "      <td>{'link': 'https://twitter.com/MeghUpdates/stat...</td>\n",
       "      <td>{'comments': 0, 'retweets': 0, 'quotes': 0, 'l...</td>\n",
       "      <td>[]</td>\n",
       "      <td>[]</td>\n",
       "      <td>[]</td>\n",
       "    </tr>\n",
       "    <tr>\n",
       "      <th>3</th>\n",
       "      <td>https://twitter.com/AnkitaBnsl/status/17354773...</td>\n",
       "      <td>10 reasons why you must visit Kashi at least o...</td>\n",
       "      <td>{'name': 'Ankita', 'username': '@AnkitaBnsl', ...</td>\n",
       "      <td>Dec 15, 2023 · 1:50 AM UTC</td>\n",
       "      <td>True</td>\n",
       "      <td></td>\n",
       "      <td>{}</td>\n",
       "      <td>{'comments': 63, 'retweets': 534, 'quotes': 14...</td>\n",
       "      <td>[https://pbs.twimg.com/media/GBWnaadXcAA_XRb.jpg]</td>\n",
       "      <td>[]</td>\n",
       "      <td>[]</td>\n",
       "    </tr>\n",
       "    <tr>\n",
       "      <th>4</th>\n",
       "      <td>https://twitter.com/sony_sharma2/status/173556...</td>\n",
       "      <td>दु:खको ऋण तिरेर खुसिको झोला  बोकि कहिले फर्किन...</td>\n",
       "      <td>{'name': 'ER. SONASHU SHARMA 🇨🇦🍁', 'username':...</td>\n",
       "      <td>Dec 15, 2023 · 7:30 AM UTC</td>\n",
       "      <td>True</td>\n",
       "      <td></td>\n",
       "      <td>{}</td>\n",
       "      <td>{'comments': 5, 'retweets': 18, 'quotes': 0, '...</td>\n",
       "      <td>[]</td>\n",
       "      <td>[]</td>\n",
       "      <td>[]</td>\n",
       "    </tr>\n",
       "  </tbody>\n",
       "</table>\n",
       "</div>"
      ],
      "text/plain": [
       "                                                link  \\\n",
       "0  https://twitter.com/Cloud_Secret7/status/17355...   \n",
       "1  https://twitter.com/ManishaSinghSP/status/1735...   \n",
       "2  https://twitter.com/folicacid371655/status/173...   \n",
       "3  https://twitter.com/AnkitaBnsl/status/17354773...   \n",
       "4  https://twitter.com/sony_sharma2/status/173556...   \n",
       "\n",
       "                                                text  \\\n",
       "0  #अपठ्यारोमा साथ दिन्छन भनेर किन भ्रममा पर्नु ह...   \n",
       "1                                        अखिलेश यादव   \n",
       "2  Nowadays, #Kangla deshi has followed the path ...   \n",
       "3  10 reasons why you must visit Kashi at least o...   \n",
       "4  दु:खको ऋण तिरेर खुसिको झोला  बोकि कहिले फर्किन...   \n",
       "\n",
       "                                                user  \\\n",
       "0  {'name': 'डा पटमुर्ख', 'username': '@Cloud_Sec...   \n",
       "1  {'name': 'INDIA=BHARAT', 'username': '@Manisha...   \n",
       "2  {'name': 'folic acid', 'username': '@folicacid...   \n",
       "3  {'name': 'Ankita', 'username': '@AnkitaBnsl', ...   \n",
       "4  {'name': 'ER. SONASHU SHARMA 🇨🇦🍁', 'username':...   \n",
       "\n",
       "                         date is-retweet external-link  \\\n",
       "0  Dec 15, 2023 · 6:52 AM UTC       True                 \n",
       "1  Dec 15, 2023 · 1:28 PM UTC      False                 \n",
       "2  Dec 15, 2023 · 1:28 PM UTC      False                 \n",
       "3  Dec 15, 2023 · 1:50 AM UTC       True                 \n",
       "4  Dec 15, 2023 · 7:30 AM UTC       True                 \n",
       "\n",
       "                                         quoted-post  \\\n",
       "0                                                 {}   \n",
       "1                                                 {}   \n",
       "2  {'link': 'https://twitter.com/MeghUpdates/stat...   \n",
       "3                                                 {}   \n",
       "4                                                 {}   \n",
       "\n",
       "                                               stats  \\\n",
       "0  {'comments': 4, 'retweets': 7, 'quotes': 0, 'l...   \n",
       "1  {'comments': 0, 'retweets': 0, 'quotes': 0, 'l...   \n",
       "2  {'comments': 0, 'retweets': 0, 'quotes': 0, 'l...   \n",
       "3  {'comments': 63, 'retweets': 534, 'quotes': 14...   \n",
       "4  {'comments': 5, 'retweets': 18, 'quotes': 0, '...   \n",
       "\n",
       "                                            pictures videos gifs  \n",
       "0                                                 []     []   []  \n",
       "1                                                 []     []   []  \n",
       "2                                                 []     []   []  \n",
       "3  [https://pbs.twimg.com/media/GBWnaadXcAA_XRb.jpg]     []   []  \n",
       "4                                                 []     []   []  "
      ]
     },
     "execution_count": 77,
     "metadata": {},
     "output_type": "execute_result"
    }
   ],
   "source": [
    "get_tweet_data('Bharat','term',5,'2023-12-01')"
   ]
  },
  {
   "cell_type": "markdown",
   "metadata": {},
   "source": [
    "# **Get Profile Info**"
   ]
  },
  {
   "cell_type": "code",
   "execution_count": 20,
   "metadata": {},
   "outputs": [
    {
     "name": "stdout",
     "output_type": "stream",
     "text": [
      "15-Dec-23 12:29:10 - No instance specified, using random instance https://nitter.oksocial.net\n"
     ]
    },
    {
     "data": {
      "text/plain": [
       "{'image': 'https://pbs.twimg.com/profile_images/578162805666230272/cCkngdx2_400x400.jpeg',\n",
       " 'name': 'ReserveBankOfIndia',\n",
       " 'username': '@RBI',\n",
       " 'id': '478432912',\n",
       " 'bio': 'Reserve Bank of India\\n@rbisays facebook.com/RBISays\\n@RBIsays',\n",
       " 'location': 'India',\n",
       " 'website': 'http://www.rbi.org.in',\n",
       " 'joined': '8:35 AM - 30 Jan 2012',\n",
       " 'stats': {'tweets': 18508,\n",
       "  'following': 1,\n",
       "  'followers': 2192248,\n",
       "  'likes': 37,\n",
       "  'media': 371}}"
      ]
     },
     "execution_count": 20,
     "metadata": {},
     "output_type": "execute_result"
    }
   ],
   "source": [
    "scraper.get_profile_info('RBI')"
   ]
  }
 ],
 "metadata": {
  "kernelspec": {
   "display_name": "Python 3",
   "language": "python",
   "name": "python3"
  },
  "language_info": {
   "codemirror_mode": {
    "name": "ipython",
    "version": 3
   },
   "file_extension": ".py",
   "mimetype": "text/x-python",
   "name": "python",
   "nbconvert_exporter": "python",
   "pygments_lexer": "ipython3",
   "version": "3.11.6"
  }
 },
 "nbformat": 4,
 "nbformat_minor": 2
}
